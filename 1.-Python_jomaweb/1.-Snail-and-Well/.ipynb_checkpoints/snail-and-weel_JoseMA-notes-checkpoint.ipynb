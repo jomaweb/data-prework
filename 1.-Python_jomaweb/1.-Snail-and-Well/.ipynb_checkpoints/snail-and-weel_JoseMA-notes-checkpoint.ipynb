{
 "cells": [
  {
   "cell_type": "code",
   "execution_count": 7,
   "metadata": {},
   "outputs": [
    {
     "name": "stdout",
     "output_type": "stream",
     "text": [
      "the number of days the snail needs is:10\n"
     ]
    }
   ],
   "source": [
    "# Prework Python exercise one\n",
    "\n",
    "well_height = 125\n",
    "daily_distance = 30\n",
    "nightly_distance = 20\n",
    "snail_position = 0\n",
    "\n",
    "days = 0\n",
    "\n",
    "while snail_position < well_height:\n",
    "    snail_position += daily_distance \n",
    "    if snail_position < well_height:\n",
    "        snail_position -= nightly_distance        \n",
    "        days += 1\n",
    "    else:\n",
    "        print (\"the number of days the snail needs is:\" + str(days))"
   ]
  },
  {
   "cell_type": "code",
   "execution_count": 16,
   "metadata": {},
   "outputs": [
    {
     "name": "stdout",
     "output_type": "stream",
     "text": [
      "the number of days the snail needs is:0\n"
     ]
    }
   ],
   "source": [
    "# Prework Python exercise two\n",
    "\n",
    "\n",
    "well_height = 125\n",
    "daily_advance = [30, 21, 33, 77, 44, 45, 23, 45, 12, 34, 55]\n",
    "nightly_distance = 20\n",
    "snail_position = 0\n",
    "\n",
    "days = 0\n",
    "\n",
    "while snail_position < well_height:\n",
    "    for item in daily_advance:\n",
    "        snail_position += item\n",
    "    if snail_position < well_height:\n",
    "        snail_position -= nightly_distance        \n",
    "        days += 1\n",
    "    else:\n",
    "        print (\"the number of days the snail needs is:\" + str(days))\n"
   ]
  },
  {
   "cell_type": "code",
   "execution_count": 20,
   "metadata": {},
   "outputs": [
    {
     "name": "stdout",
     "output_type": "stream",
     "text": [
      "the number of days the snail needs is:5\n"
     ]
    }
   ],
   "source": [
    "# Prework Python exercise two\n",
    "\n",
    "\n",
    "well_height = 125\n",
    "daily_advance = [30, 21, 33, 77, 44, 45, 23, 45, 12, 34, 55]\n",
    "nightly_distance = 20\n",
    "snail_position = 0\n",
    "\n",
    "days = 0\n",
    "\n",
    "for item in daily_advance:\n",
    "    snail_position += item\n",
    "    if snail_position <= well_height:\n",
    "        snail_position -= nightly_distance        \n",
    "        days += 1\n",
    "else:\n",
    "    print (\"the number of days the snail needs is:\" + str(days))\n"
   ]
  },
  {
   "cell_type": "code",
   "execution_count": 9,
   "metadata": {},
   "outputs": [
    {
     "name": "stdout",
     "output_type": "stream",
     "text": [
      "[30, 21, 33, 77, 44]\n"
     ]
    }
   ],
   "source": [
    "daily_advance = [30, 21, 33, 77, 44, 45, 23, 45, 12, 34, 55]\n",
    "print (daily_advance[:5])"
   ]
  },
  {
   "cell_type": "code",
   "execution_count": 11,
   "metadata": {},
   "outputs": [
    {
     "name": "stdout",
     "output_type": "stream",
     "text": [
      "The minimun displacement in one day is 10 cm.\n"
     ]
    }
   ],
   "source": [
    "daily_advance = [30, 21, 33, 77, 44, 45, 23, 45, 12, 34, 55]\n",
    "max_displ = daily_advance [0]\n",
    "min_displ = 0\n",
    "nightly_distance = 20\n",
    "\n",
    "for displacement in daily_advance:\n",
    "    if displacement < min_displ:\n",
    "        min_displ = displacement\n",
    "print (\"The minimun displacement in one day is\", max_displ - nightly_distance, \"cm.\")\n"
   ]
  },
  {
   "cell_type": "code",
   "execution_count": 16,
   "metadata": {},
   "outputs": [
    {
     "name": "stdout",
     "output_type": "stream",
     "text": [
      "[30, 21, 33, 77, 44]\n"
     ]
    }
   ],
   "source": [
    "#max_displ = [x - 20 for x in max_displ]\n",
    "daily_advance = [30, 21, 33, 77, 44, 45, 23, 45, 12, 34, 55]\n",
    "advance_scape = daily_advance[:5]\n",
    "print (advance_scape)"
   ]
  },
  {
   "cell_type": "code",
   "execution_count": 19,
   "metadata": {},
   "outputs": [
    {
     "name": "stdout",
     "output_type": "stream",
     "text": [
      "[10, 1, 13, 57, 24]\n"
     ]
    }
   ],
   "source": [
    "mean = [x - 20 for x in advance_scape]\n",
    "print (mean)"
   ]
  },
  {
   "cell_type": "code",
   "execution_count": 21,
   "metadata": {},
   "outputs": [
    {
     "name": "stdout",
     "output_type": "stream",
     "text": [
      "The original list is : [6, 7, 3, 9, 10, 15]\n",
      "The variance of list is : 13.888888888888891\n"
     ]
    }
   ],
   "source": [
    "# initialize list \n",
    "test_list = [6, 7, 3, 9, 10, 15] \n",
    "  \n",
    "# printing original list \n",
    "print(\"The original list is : \" + str(test_list)) \n",
    "  \n",
    "# Variance of List \n",
    "# using loop + formula \n",
    "mean = sum(test_list) / len(test_list) \n",
    "res = sum((i - mean) ** 2 for i in test_list) / len(test_list) \n",
    "  \n",
    "# printing result \n",
    "print(\"The variance of list is : \" + str(res)) "
   ]
  },
  {
   "cell_type": "code",
   "execution_count": 23,
   "metadata": {},
   "outputs": [
    {
     "name": "stdout",
     "output_type": "stream",
     "text": [
      "Add a number to get square root: 25\n",
      "square root: 5.0\n"
     ]
    }
   ],
   "source": [
    "num = int(input(\"Add a number to get square root: \"))\n",
    "sqrt = num ** 0.5\n",
    "\n",
    "print(\"square root:\", sqrt)"
   ]
  },
  {
   "cell_type": "markdown",
   "metadata": {},
   "source": [
    "### notes\n",
    "Python\n",
    "\n",
    "standard deviation:\n",
    "https://www.mathsisfun.com/data/standard-deviation.html\n",
    "\n",
    " list comprehension:\n",
    "https://stackoverflow.com/questions/4918425/subtract-a-value-from-every-number-in-a-list-in-python\n",
    "\n",
    "a = [x - 13 for x in a]\n",
    "\n",
    "\n",
    "How can I calculate the variance of a list in python?\n",
    "https://stackoverflow.com/questions/35583302/how-can-i-calculate-the-variance-of-a-list-in-python\n",
    "\n",
    "https://www.geeksforgeeks.org/python-variance-of-list/\n",
    "\n",
    "\n",
    "list comprehension\n",
    "https://www.listendata.com/2019/07/python-list-comprehension-with-examples.html\n",
    "\n",
    "\n",
    "\n",
    "\n"
   ]
  }
 ],
 "metadata": {
  "kernelspec": {
   "display_name": "Python 3",
   "language": "python",
   "name": "python3"
  },
  "language_info": {
   "codemirror_mode": {
    "name": "ipython",
    "version": 3
   },
   "file_extension": ".py",
   "mimetype": "text/x-python",
   "name": "python",
   "nbconvert_exporter": "python",
   "pygments_lexer": "ipython3",
   "version": "3.8.5"
  }
 },
 "nbformat": 4,
 "nbformat_minor": 4
}
