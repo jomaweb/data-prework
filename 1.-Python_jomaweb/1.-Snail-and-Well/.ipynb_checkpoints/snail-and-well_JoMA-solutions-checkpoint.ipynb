{
 "cells": [
  {
   "cell_type": "markdown",
   "metadata": {},
   "source": [
    "<img src=\"https://bit.ly/2VnXWr2\" width=\"100\" align=\"left\">"
   ]
  },
  {
   "cell_type": "markdown",
   "metadata": {},
   "source": [
    "# The Snail and the Well\n",
    "\n",
    "A snail falls at the bottom of a 125 cm well. Each day the snail rises 30 cm. But at night, while sleeping, slides 20 cm because the walls are wet. How many days does it take for the snail to escape the well?\n",
    "\n",
    "**Hint**: The snail gets out of the well when it surpasses the 125cm of height.\n",
    "\n",
    "## Tools\n",
    "\n",
    "1. Loop: **while**\n",
    "2. Conditional statements: **if-else**\n",
    "3. Function: **print()**\n",
    "\n",
    "## Tasks\n",
    "\n",
    "#### 1. Assign the challenge data to variables with representative names: `well_height`, `daily_distance`, `nightly_distance` and `snail_position`."
   ]
  },
  {
   "cell_type": "code",
   "execution_count": 4,
   "metadata": {},
   "outputs": [],
   "source": [
    "well_height = 125\n",
    "daily_distance = 30\n",
    "nightly_distance = 20\n",
    "snail_position = 0\n"
   ]
  },
  {
   "cell_type": "markdown",
   "metadata": {},
   "source": [
    "#### 2. Create a variable `days` to keep count of the days that pass until the snail escapes the well. "
   ]
  },
  {
   "cell_type": "code",
   "execution_count": null,
   "metadata": {},
   "outputs": [],
   "source": [
    "days = 0\n"
   ]
  },
  {
   "cell_type": "markdown",
   "metadata": {},
   "source": [
    "#### 3. Find the solution to the challenge using the variables defined above. "
   ]
  },
  {
   "cell_type": "code",
   "execution_count": null,
   "metadata": {},
   "outputs": [],
   "source": [
    "while snail_position < well_height:\n",
    "    snail_position += daily_distance \n",
    "    if snail_position < well_height:\n",
    "        snail_position -= nightly_distance        \n",
    "        days += 1\n",
    "    else:\n",
    "        print (\"The snail needs \" + str(days) \" to escape the well\")"
   ]
  },
  {
   "cell_type": "markdown",
   "metadata": {},
   "source": [
    "#### 4. Print the solution."
   ]
  },
  {
   "cell_type": "code",
   "execution_count": 4,
   "metadata": {},
   "outputs": [
    {
     "name": "stdout",
     "output_type": "stream",
     "text": [
      "The snail needs 10 to escape the well.\n"
     ]
    }
   ],
   "source": [
    "well_height = 125\n",
    "daily_distance = 30\n",
    "nightly_distance = 20\n",
    "snail_position = 0\n",
    "\n",
    "days = 0 \n",
    "\n",
    "while snail_position < well_height:\n",
    "    snail_position += daily_distance \n",
    "    if snail_position < well_height:\n",
    "        snail_position -= nightly_distance        \n",
    "        days += 1\n",
    "    else:\n",
    "        print (\"The snail needs \" + str(days)+ \" to escape the well.\")"
   ]
  },
  {
   "cell_type": "markdown",
   "metadata": {},
   "source": [
    "## Bonus\n",
    "The distance traveled by the snail each day is now defined by a list.\n",
    "```\n",
    "advance_cm = [30, 21, 33, 77, 44, 45, 23, 45, 12, 34, 55]\n",
    "```\n",
    "On the first day, the snail rises 30cm but during the night it slides 20cm. On the second day, the snail rises 21cm but during the night it slides 20cm, and so on. \n",
    "\n",
    "#### 1. How many days does it take for the snail to escape the well?\n",
    "Follow the same guidelines as in the previous challenge.\n",
    "\n",
    "**Hint**: Remember that the snail gets out of the well when it surpasses the 125cm of height."
   ]
  },
  {
   "cell_type": "code",
   "execution_count": 2,
   "metadata": {},
   "outputs": [
    {
     "name": "stdout",
     "output_type": "stream",
     "text": [
      "the number of days the snail needs is: 5  days\n"
     ]
    }
   ],
   "source": [
    "\n",
    "well_height = 125\n",
    "daily_advance = [30, 21, 33, 77, 44, 45, 23, 45, 12, 34, 55]\n",
    "nightly_distance = 20\n",
    "snail_position = 0\n",
    "\n",
    "days = 0\n",
    "\n",
    "for item in daily_advance:\n",
    "    snail_position += item\n",
    "    if snail_position <= well_height:\n",
    "        snail_position -= nightly_distance        \n",
    "        days += 1\n",
    "else:\n",
    "    print (\"the number of days the snail needs is:\", str(days), \" days\")\n"
   ]
  },
  {
   "cell_type": "markdown",
   "metadata": {},
   "source": [
    "#### 2. What is its maximum displacement in one day? And its minimum? Calculate the displacement using only the travel distance of the days used to get out of the well. \n",
    "**Hint**: Remember that displacement means the total distance risen taking into account that the snail slides at night.  "
   ]
  },
  {
   "cell_type": "code",
   "execution_count": 6,
   "metadata": {},
   "outputs": [
    {
     "name": "stdout",
     "output_type": "stream",
     "text": [
      "The maximum displacement in one day is 57 cm.\n",
      "The minimun displacement in one day is 1 cm.\n"
     ]
    }
   ],
   "source": [
    "daily_advance = [30, 21, 33, 77, 44, 45, 23, 45, 12, 34, 55]\n",
    "advance_scape = daily_advance[:5]\n",
    "max_displ = daily_advance [0]\n",
    "min_displ = daily_advance [0]\n",
    "nightly_distance = 20\n",
    "\n",
    "\n",
    "for displacement in advance_scape:\n",
    "    if displacement > max_displ:\n",
    "        max_displ = displacement\n",
    "print (\"The maximum displacement in one day is\", max_displ - nightly_distance, \"cm.\")\n",
    "\n",
    "for displacement in advance_scape:\n",
    "    if displacement < min_displ:\n",
    "        min_displ = displacement\n",
    "print (\"The minimun displacement in one day is\", min_displ - nightly_distance, \"cm.\")\n",
    "\n"
   ]
  },
  {
   "cell_type": "markdown",
   "metadata": {},
   "source": [
    "#### 3. What is its average progress? Take into account the snail slides at night."
   ]
  },
  {
   "cell_type": "code",
   "execution_count": 20,
   "metadata": {},
   "outputs": [
    {
     "name": "stdout",
     "output_type": "stream",
     "text": [
      "The daily real progress is: [10, 1, 13, 57, 24]\n",
      "The average progress is: 21.0 cm\n"
     ]
    }
   ],
   "source": [
    "# calculate the real progress -- without the distance the snail slides at night.  \n",
    "real_progress = [x - 20 for x in advance_scape] #\n",
    "\n",
    "# calculate the average progress \n",
    "average_progress = (sum(real_progress) / len(real_progress))\n",
    "\n",
    "print (\"The daily real progress is:\", real_progress)\n",
    "print (\"The average progress is:\", average_progress, \"cm\")"
   ]
  },
  {
   "cell_type": "markdown",
   "metadata": {},
   "source": [
    "#### 4. What is the standard deviation of its displacement? Take into account the snail slides at night."
   ]
  },
  {
   "cell_type": "code",
   "execution_count": 24,
   "metadata": {},
   "outputs": [
    {
     "name": "stdout",
     "output_type": "stream",
     "text": [
      "The standard deviation of the snail displacement is: 19.44222209522358 cm.\n"
     ]
    }
   ],
   "source": [
    "# calculate the variance (the standard deviation is the square root of the Variance.)\n",
    "\n",
    "variance = sum((i - average_progress) ** 2 for i in real_progress) / len(real_progress)\n",
    "\n",
    "standard_deviation = variance ** 0.5\n",
    "print (\"The standard deviation of the snail displacement is:\", standard_deviation, \"cm.\")\n",
    "\n"
   ]
  }
 ],
 "metadata": {
  "kernelspec": {
   "display_name": "Python 3",
   "language": "python",
   "name": "python3"
  },
  "language_info": {
   "codemirror_mode": {
    "name": "ipython",
    "version": 3
   },
   "file_extension": ".py",
   "mimetype": "text/x-python",
   "name": "python",
   "nbconvert_exporter": "python",
   "pygments_lexer": "ipython3",
   "version": "3.8.5"
  }
 },
 "nbformat": 4,
 "nbformat_minor": 2
}
