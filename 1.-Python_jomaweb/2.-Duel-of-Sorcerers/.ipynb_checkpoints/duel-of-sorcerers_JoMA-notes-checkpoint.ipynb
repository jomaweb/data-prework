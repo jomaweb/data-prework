{
 "cells": [
  {
   "cell_type": "code",
   "execution_count": 27,
   "metadata": {},
   "outputs": [
    {
     "name": "stdout",
     "output_type": "stream",
     "text": [
      "Gandalf wins!\n",
      "[0, 15, 22, 24, 25, 28, 30, 32, 34, 35, 37, 38, 39, 42, 44, 45, 48, 49, 55, 69, 71, 73, 74, 76, 77, 78, 81, 83, 84, 87, 88, 91, 93, 94, 97, 98]\n",
      "[0, 1, 2, 3, 4, 5, 6, 7, 8, 9, 10, 11, 12, 13, 14, 16, 17, 18, 19, 20, 21, 23, 26, 27, 29, 31, 33, 36, 40, 41, 43, 46, 47, 50, 51, 52, 53, 54, 56, 57, 58, 59, 60, 61, 62, 63, 64, 65, 66, 67, 68, 70, 72, 75, 79, 80, 82, 85, 86, 89, 90, 92, 95, 96]\n",
      "98\n"
     ]
    }
   ],
   "source": [
    "gandalf = [10, 11, 13, 30, 22, 11, 10, 33, 22, 22]\n",
    "saruman = [23, 66, 12, 43, 12, 10, 44, 23, 12, 17]\n",
    "\n",
    "spell = 0\n",
    "\n",
    "\n",
    "gandalf_wins = [0]\n",
    "saruman_wins = [0]\n",
    "\n",
    "\n",
    "for item in gandalf:\n",
    "    for number in saruman:\n",
    "        #duel += 1\n",
    "        #spell.append(duel)\n",
    "        if item > number:\n",
    "            spell += 1\n",
    "            gandalf_wins.append(spell)\n",
    "        elif item < number:\n",
    "            spell += 1\n",
    "            saruman_wins.append(spell)\n",
    "        \n",
    "if gandalf_wins < saruman_wins: \n",
    "    print (\"Sarunam wins!\")\n",
    "else:\n",
    "    print (\"Gandalf wins!\")\n",
    "\n",
    "\n",
    "print (gandalf_wins) \n",
    "print (saruman_wins)\n",
    "print (spell)"
   ]
  },
  {
   "cell_type": "code",
   "execution_count": 28,
   "metadata": {},
   "outputs": [
    {
     "ename": "AttributeError",
     "evalue": "'list' object has no attribute 'spell'",
     "output_type": "error",
     "traceback": [
      "\u001b[0;31m---------------------------------------------------------------------------\u001b[0m",
      "\u001b[0;31mAttributeError\u001b[0m                            Traceback (most recent call last)",
      "\u001b[0;32m<ipython-input-28-ddf719fed4cf>\u001b[0m in \u001b[0;36m<module>\u001b[0;34m\u001b[0m\n\u001b[1;32m     16\u001b[0m             \u001b[0mgandalf_wins\u001b[0m \u001b[0;34m=\u001b[0m \u001b[0mgandalf\u001b[0m\u001b[0;34m.\u001b[0m\u001b[0mspell\u001b[0m\u001b[0;34m\u001b[0m\u001b[0;34m\u001b[0m\u001b[0m\n\u001b[1;32m     17\u001b[0m         \u001b[0;32melif\u001b[0m \u001b[0mitem\u001b[0m \u001b[0;34m<\u001b[0m \u001b[0mnumber\u001b[0m\u001b[0;34m:\u001b[0m\u001b[0;34m\u001b[0m\u001b[0;34m\u001b[0m\u001b[0m\n\u001b[0;32m---> 18\u001b[0;31m             \u001b[0msaruman\u001b[0m\u001b[0;34m.\u001b[0m\u001b[0mspell\u001b[0m \u001b[0;34m+=\u001b[0m \u001b[0;36m1\u001b[0m\u001b[0;34m\u001b[0m\u001b[0;34m\u001b[0m\u001b[0m\n\u001b[0m\u001b[1;32m     19\u001b[0m             \u001b[0msaruman_wins\u001b[0m \u001b[0;34m=\u001b[0m \u001b[0msaruman\u001b[0m\u001b[0;34m.\u001b[0m\u001b[0mspell\u001b[0m\u001b[0;34m\u001b[0m\u001b[0;34m\u001b[0m\u001b[0m\n\u001b[1;32m     20\u001b[0m \u001b[0;34m\u001b[0m\u001b[0m\n",
      "\u001b[0;31mAttributeError\u001b[0m: 'list' object has no attribute 'spell'"
     ]
    }
   ],
   "source": [
    "gandalf = [10, 11, 13, 30, 22, 11, 10, 33, 22, 22]\n",
    "saruman = [23, 66, 12, 43, 12, 10, 44, 23, 12, 17]\n",
    "\n",
    "\n",
    "spell = 0\n",
    "\n",
    "\n",
    "gandalf_wins = 0\n",
    "saruman_wins = 0\n",
    "\n",
    "\n",
    "for item in gandalf:\n",
    "    for number in saruman:\n",
    "        if item > number:\n",
    "            gandalf.spell += 1\n",
    "            gandalf_wins = gandalf.spell\n",
    "        elif item < number:\n",
    "            saruman.spell += 1\n",
    "            saruman_wins = saruman.spell\n",
    "        \n",
    "if gandalf_wins < saruman_wins:\n",
    "    print (\"Sarunam wins!\")\n",
    "else:\n",
    "    print (\"Gandalf wins!\")\n"
   ]
  },
  {
   "cell_type": "code",
   "execution_count": 26,
   "metadata": {},
   "outputs": [
    {
     "name": "stdout",
     "output_type": "stream",
     "text": [
      "55\n"
     ]
    }
   ],
   "source": [
    "total = 0\n",
    "for num in range(11):\n",
    "    total = total + num\n",
    "print(total)"
   ]
  },
  {
   "cell_type": "code",
   "execution_count": 32,
   "metadata": {},
   "outputs": [
    {
     "name": "stdout",
     "output_type": "stream",
     "text": [
      "Gandalf wins!\n",
      "35\n",
      "35\n",
      "33\n"
     ]
    }
   ],
   "source": [
    "gandalf = [10, 11, 13, 30, 22, 11, 10, 33, 22, 22]\n",
    "saruman = [23, 66, 12, 43, 12, 10, 44, 23, 12, 17]\n",
    "\n",
    "\n",
    "spell = 0\n",
    "\n",
    "\n",
    "gandalf_wins = 0\n",
    "saruman_wins = 0\n",
    "\n",
    "\n",
    "for item in gandalf:\n",
    "    for number in saruman:\n",
    "        if item > number:\n",
    "            spell += 1\n",
    "            gandalf_wins = spell\n",
    "        elif item < number:\n",
    "            saruman_wins = spell\n",
    "        \n",
    "if gandalf_wins > saruman_wins:\n",
    "    print (\"Gandalf wins!\")\n",
    "else:\n",
    "    print (\"Sarunam wins!\")\n",
    "    "
   ]
  },
  {
   "cell_type": "code",
   "execution_count": null,
   "metadata": {},
   "outputs": [],
   "source": []
  }
 ],
 "metadata": {
  "kernelspec": {
   "display_name": "Python 3",
   "language": "python",
   "name": "python3"
  },
  "language_info": {
   "codemirror_mode": {
    "name": "ipython",
    "version": 3
   },
   "file_extension": ".py",
   "mimetype": "text/x-python",
   "name": "python",
   "nbconvert_exporter": "python",
   "pygments_lexer": "ipython3",
   "version": "3.8.5"
  }
 },
 "nbformat": 4,
 "nbformat_minor": 4
}
