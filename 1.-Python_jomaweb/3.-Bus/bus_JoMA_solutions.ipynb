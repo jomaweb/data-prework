{
 "cells": [
  {
   "cell_type": "markdown",
   "metadata": {},
   "source": [
    "<img src=\"https://bit.ly/2VnXWr2\" width=\"100\" align=\"left\">"
   ]
  },
  {
   "cell_type": "markdown",
   "metadata": {},
   "source": [
    "# Bus\n",
    "\n",
    "This bus has a passenger entry and exit control system to monitor the number of occupants it carries and thus detect when there are too many.\n",
    "\n",
    "At each stop, the entry and exit of passengers is represented by a tuple consisting of two integer numbers.\n",
    "```\n",
    "bus_stop = (in, out)\n",
    "```\n",
    "The succession of stops is represented by a list of these tuples.\n",
    "```\n",
    "stops = [(in1, out1), (in2, out2), (in3, out3), (in4, out4)]\n",
    "```\n",
    "\n",
    "## Tools\n",
    "You don't necessarily need to use all the tools. Maybe you opt to use some of them or completely different ones, they are given to help you shape the exercise. Programming exercises can be solved in many different ways.\n",
    "* Data structures: **lists, tuples**\n",
    "* Loop: **while/for loops**\n",
    "* Functions: **min, max, len**\n",
    "\n",
    "## Tasks"
   ]
  },
  {
   "cell_type": "code",
   "execution_count": null,
   "metadata": {},
   "outputs": [],
   "source": [
    "# Variables\n",
    "stops = [(10, 0), (4, 1), (3, 5), (3, 4), (5, 1), (1, 5), (5, 8), (4, 6), (2, 3)]"
   ]
  },
  {
   "cell_type": "markdown",
   "metadata": {},
   "source": [
    "#### 1. Calculate the number of stops."
   ]
  },
  {
   "cell_type": "code",
   "execution_count": 5,
   "metadata": {},
   "outputs": [
    {
     "name": "stdout",
     "output_type": "stream",
     "text": [
      "The number of stops is 9\n"
     ]
    }
   ],
   "source": [
    "# Variables\n",
    "stops = [(10, 0), (4, 1), (3, 5), (3, 4), (5, 1), (1, 5), (5, 8), (4, 6), (2, 3)]\n",
    "\n",
    "print (\"The number of stops is\", len(stops))"
   ]
  },
  {
   "cell_type": "markdown",
   "metadata": {},
   "source": [
    "#### 2. Assign to a variable a list whose elements are the number of passengers at each stop (in-out).\n",
    "Each item depends on the previous item in the list + in - out."
   ]
  },
  {
   "cell_type": "code",
   "execution_count": 6,
   "metadata": {},
   "outputs": [
    {
     "name": "stdout",
     "output_type": "stream",
     "text": [
      "Passengers that go in at each stop [10, 4, 3, 3, 5, 1, 5, 4, 2]\n",
      "Passengers that go out at each stop [0, 1, 5, 4, 1, 5, 8, 6, 3]\n"
     ]
    }
   ],
   "source": [
    "stops = [(10, 0), (4, 1), (3, 5), (3, 4), (5, 1), (1, 5), (5, 8), (4, 6), (2, 3)]\n",
    "\n",
    "# lists  of passangers that go in at each stop\n",
    "go_in = [x[0] for x in stops]\n",
    "# lists  of passangers that go out at each stop\n",
    "go_out = [x[1] for x in stops] \n",
    "\n",
    "print (\"List of passengers that go in at each stop:\", go_in)\n",
    "print (\"List oof passengers that go out at each stop:\", go_out)\n"
   ]
  },
  {
   "cell_type": "markdown",
   "metadata": {},
   "source": [
    "#### 3. Find the maximum occupation of the bus."
   ]
  },
  {
   "cell_type": "code",
   "execution_count": 16,
   "metadata": {},
   "outputs": [
    {
     "name": "stdout",
     "output_type": "stream",
     "text": [
      "The maximum occupation of the bus is 10\n"
     ]
    }
   ],
   "source": [
    "stops = [(10, 0), (4, 1), (3, 5), (3, 4), (5, 1), (1, 5), (5, 8), (4, 6), (2, 3)]\n",
    "\n",
    "# lists  of passangers that go in at each stop\n",
    "go_in = [x[0] for x in stops]\n",
    "# lists  of passangers that go out at each stop\n",
    "go_out = [x[1] for x in stops] \n",
    "\n",
    "#max_occup = max(go_in)\n",
    "print (\"The maximum occupation of the bus is\", max(go_in))\n"
   ]
  },
  {
   "cell_type": "markdown",
   "metadata": {},
   "source": [
    "#### 4. Calculate the average occupation. And the standard deviation."
   ]
  },
  {
   "cell_type": "code",
   "execution_count": 5,
   "metadata": {},
   "outputs": [
    {
     "name": "stdout",
     "output_type": "stream",
     "text": [
      "Lists  of passangers that go in at each stop: [10, 4, 3, 3, 5, 1, 5, 4, 2]\n",
      "Lists  of passangers that go out at each stop: [0, 1, 5, 4, 1, 5, 8, 6, 3]\n",
      "The list of occupation in each stop is: [10, 3, -2, -1, 4, -4, -3, -2, -1]\n",
      "The average occupation in each stop is: 0.4444444444444444\n",
      "The standard deviation of the bus occupation is: 4.192880503136268 persons.\n"
     ]
    }
   ],
   "source": [
    "stops = [(10, 0), (4, 1), (3, 5), (3, 4), (5, 1), (1, 5), (5, 8), (4, 6), (2, 3)]\n",
    "\n",
    "# lists  of passangers that go in at each stop\n",
    "go_in = [x[0] for x in stops]\n",
    "print (\"Lists  of passangers that go in at each stop:\", go_in)\n",
    "# lists  of passangers that go out at each stop\n",
    "go_out = [x[1] for x in stops] \n",
    "print (\"Lists  of passangers that go out at each stop:\", go_out)\n",
    "\n",
    "#  List of occupation in each stop\n",
    "#with zip fuction\n",
    "list_occup = [x - y for x, y in zip(go_in, go_out)]\n",
    "print (\"The list of occupation in each stop is:\", list_occup)\n",
    "\n",
    "# average occupation in each stop\n",
    "average_occupation = sum(list_occup)/len(list_occup)\n",
    "print (\"The average occupation in each stop is:\", average_occup)          \n",
    "\n",
    "             \n",
    "# calculate the variance of the average occupation\n",
    "\n",
    "variance = sum((i - average_occupation) ** 2 for i in list_occup) / len(list_occup)\n",
    "\n",
    "\n",
    "# the standard deviation is the square root of variance\n",
    "standard_deviation = variance ** 0.5\n",
    "print (\"The standard deviation of the bus occupation is:\", standard_deviation, \"persons.\")\n",
    "\n"
   ]
  }
 ],
 "metadata": {
  "kernelspec": {
   "display_name": "Python 3",
   "language": "python",
   "name": "python3"
  },
  "language_info": {
   "codemirror_mode": {
    "name": "ipython",
    "version": 3
   },
   "file_extension": ".py",
   "mimetype": "text/x-python",
   "name": "python",
   "nbconvert_exporter": "python",
   "pygments_lexer": "ipython3",
   "version": "3.8.5"
  }
 },
 "nbformat": 4,
 "nbformat_minor": 2
}
