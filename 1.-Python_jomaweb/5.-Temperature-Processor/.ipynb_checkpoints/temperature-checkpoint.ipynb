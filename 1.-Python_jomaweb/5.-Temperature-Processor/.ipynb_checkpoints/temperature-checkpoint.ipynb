{
 "cells": [
  {
   "cell_type": "markdown",
   "metadata": {},
   "source": [
    "<img src=\"https://bit.ly/2VnXWr2\" width=\"100\" align=\"left\">"
   ]
  },
  {
   "cell_type": "markdown",
   "metadata": {},
   "source": [
    "# Temperature Sensor\n",
    "\n",
    "There is a temperature sensor in the processor of your company's server. The company wants to analyze the data provided by the sensor to decide if they should change the cooling system for a better one. As changing the cooling system is expensive and you are an excellent data analyst, you can't make a decision without basis.\n",
    "\n",
    "## Tools\n",
    "You don't necessarily need to use all the tools. Maybe you opt to use some of them or completely different ones, they are given to help you shape the exercise. Programming exercises can be solved in many different ways.\n",
    "1. Data structures: **lists**\n",
    "2. Loops: **list comprehension**\n",
    "3. Functions: **min, max, print, len**\n",
    "4. Conditional statements: **if-elif-else**\n",
    "\n",
    "## Tasks\n",
    "The temperatures measured throughout the 24 hours of a day are:"
   ]
  },
  {
   "cell_type": "code",
   "execution_count": null,
   "metadata": {},
   "outputs": [],
   "source": [
    "temperatures_C = [33, 66, 65, 0, 59, 60, 62, 64, 70, 76, 80, 81, 80, 83, 90, 79, 61, 53, 50, 49, 53, 48, 45, 39]"
   ]
  },
  {
   "cell_type": "markdown",
   "metadata": {},
   "source": [
    "The first element of the list is the temperature at 12am, the second element is the temperature at 1am, and so on. \n",
    "\n",
    "The company has decided that if one of the following events occurs, then the cooling system needs to be replaced for a new one to avoid damaging the processor.\n",
    "* More than 4 temperatures are greater than or equal to 70ºC.\n",
    "* Any temperature is above 80ºC.\n",
    "* The average temperature exceeds 65ºC.\n",
    "\n",
    "Follow the steps so that you can make the decision.\n",
    "\n",
    "#### 1. Find the minimum temperature of the day and store it in a variable."
   ]
  },
  {
   "cell_type": "code",
   "execution_count": 3,
   "metadata": {},
   "outputs": [
    {
     "name": "stdout",
     "output_type": "stream",
     "text": [
      "0\n"
     ]
    }
   ],
   "source": [
    "temperatures_C = [33, 66, 65, 0, 59, 60, 62, 64, 70, 76, 80, 81, 80, 83, 90, 79, 61, 53, 50, 49, 53, 48, 45, 39]\n",
    "\n",
    "min_temperature = min(temperatures_C)\n",
    "print (min_temperature)"
   ]
  },
  {
   "cell_type": "markdown",
   "metadata": {},
   "source": [
    "#### 2. Find the maximum temperature of the day and store it in a variable."
   ]
  },
  {
   "cell_type": "code",
   "execution_count": 4,
   "metadata": {},
   "outputs": [
    {
     "name": "stdout",
     "output_type": "stream",
     "text": [
      "90\n"
     ]
    }
   ],
   "source": [
    "max_temperature = max(temperatures_C)\n",
    "print (max_temperature)"
   ]
  },
  {
   "cell_type": "markdown",
   "metadata": {},
   "source": [
    "#### 3. Create a list with the temperatures that are greater than or equal to 70ºC. Store it in a variable."
   ]
  },
  {
   "cell_type": "code",
   "execution_count": 6,
   "metadata": {},
   "outputs": [
    {
     "name": "stdout",
     "output_type": "stream",
     "text": [
      "[70, 76, 80, 81, 80, 83, 90, 79]\n"
     ]
    }
   ],
   "source": [
    "greater_70C = []\n",
    "\n",
    "for temp in temperatures_C:\n",
    "    if temp >= 70:\n",
    "        greater_70C.append(temp)\n",
    "\n",
    "print (greater_70C)"
   ]
  },
  {
   "cell_type": "markdown",
   "metadata": {},
   "source": [
    "#### 4. Find the average temperature of the day and store it in a variable."
   ]
  },
  {
   "cell_type": "code",
   "execution_count": 10,
   "metadata": {},
   "outputs": [
    {
     "name": "stdout",
     "output_type": "stream",
     "text": [
      "60.25\n"
     ]
    }
   ],
   "source": [
    "ave_temp_day = sum(temperatures_C)/len(temperatures_C)\n",
    "print (ave_temp_day)\n"
   ]
  },
  {
   "cell_type": "markdown",
   "metadata": {},
   "source": [
    "#### 5. Imagine that there was a sensor failure at 3am and the data for that specific hour was not recorded. How would you estimate the missing value? Replace the current value of the list at 3am for an estimation. "
   ]
  },
  {
   "cell_type": "code",
   "execution_count": 4,
   "metadata": {},
   "outputs": [
    {
     "name": "stdout",
     "output_type": "stream",
     "text": [
      "Index of missing data: 3\n",
      "Estimated value to replace missing date: 62.0\n",
      "Updated list of temperatures: [33, 66, 65, 62, 59, 60, 62, 64, 70, 76, 80, 81, 80, 83, 90, 79, 61, 53, 50, 49, 53, 48, 45, 39]\n"
     ]
    }
   ],
   "source": [
    "temperatures_C = [33, 66, 65, 0, 59, 60, 62, 64, 70, 76, 80, 81, 80, 83, 90, 79, 61, 53, 50, 49, 53, 48, 45, 39]\n",
    "\n",
    "\n",
    "# find the index of missing data\n",
    "print (\"Index of missing data:\", temperatures_C.index(0))\n",
    "# find the middle point between the data before and after of missing data\n",
    "missing_data = (temperatures_C[2] + temperatures_C[4])/2\n",
    "\n",
    "print (\"Estimated value to replace missing date:\", missing_data)\n",
    "#Replace the current value of the list at 3am for an estimation.\n",
    "temperatures_C.remove(0)\n",
    "temperatures_C.insert(3, 62)\n",
    "\n",
    "print (\"Updated list of temperatures:\", temperatures_C)"
   ]
  },
  {
   "cell_type": "markdown",
   "metadata": {},
   "source": [
    "#### 6. Bonus: the maintenance staff is from the United States and does not understand the international metric system. Help them by converting the temperatures from Celsius to Fahrenheit.\n",
    "To know more about temperature conversion check this [link](https://en.wikipedia.org/wiki/Conversion_of_units_of_temperature).\n",
    "\n",
    "**Formula**: \n",
    "\n",
    "$F = 1.8 * C + 32$"
   ]
  },
  {
   "cell_type": "code",
   "execution_count": 11,
   "metadata": {},
   "outputs": [
    {
     "name": "stdout",
     "output_type": "stream",
     "text": [
      "[91.4, 150.8, 149.0, 143.60000000000002, 138.2, 140.0, 143.60000000000002, 147.2, 158.0, 168.8, 176.0, 177.8, 176.0, 181.4, 194.0, 174.20000000000002, 141.8, 127.4, 122.0, 120.2, 127.4, 118.4, 113.0, 102.2]\n"
     ]
    }
   ],
   "source": [
    "# Convert the temperatures from Celsius to Fahrenheit.\n",
    "\n",
    "temperatures_F = []\n",
    "for value in temperatures_C:\n",
    "    fahrenheit = (1.8*value) + 32\n",
    "    temperatures_F.append(fahrenheit)\n",
    "\n",
    "print (temperatures_F)\n"
   ]
  },
  {
   "cell_type": "markdown",
   "metadata": {},
   "source": [
    "#### 7. Make a decision!\n",
    "Now it's time to make a decision taking into account what you have seen until now. \n",
    "\n",
    "Remember that if one of the following events occurs, then the cooling system needs to be replaced for a new one to avoid damaging the processor.\n",
    "* More than 4 temperatures are greater than or equal to 70ºC.\n",
    "* Any temperature is above 80ºC.\n",
    "* The average temperature exceeds 65ºC.\n",
    "\n",
    "#### To make your decision, check if any of the three conditions above is met. You might need to use some of the variables you created in steps 1 to 6. Print a message to show if the cooling system needs to be changed or not."
   ]
  },
  {
   "cell_type": "code",
   "execution_count": 26,
   "metadata": {},
   "outputs": [
    {
     "name": "stdout",
     "output_type": "stream",
     "text": [
      "There are 4 temperature values greater than or equal to 70°C.\n",
      "Replace the cooling system.\n",
      "There are 5 temperature values above 80°C.\n",
      "The cooling system must be replaced.\n",
      "The average temperature does not exceed 65ºC.\n",
      "Check other conditions to replace the cooling system.\n"
     ]
    }
   ],
   "source": [
    "\n",
    "\n",
    "temperatures_C = [33, 66, 65, 0, 59, 60, 62, 64, 70, 76, 80, 81, 80, 83, 90, 79, 61, 53, 50, 49, 53, 48, 45, 39]\n",
    "\n",
    "# More than 4 temperatures are greater than or equal to 70ºC.\n",
    "greater_70C = []\n",
    "\n",
    "for temp in temperatures_C:\n",
    "    if temp >= 70:\n",
    "        greater_70C.append(temp)\n",
    "\n",
    "condition_1 = greater_70C[4]\n",
    "condition_1 = True\n",
    "\n",
    "if condition_1:\n",
    "        print (\"\"\"There are 4 temperature values greater than or equal to 70°C.\n",
    "Replace the cooling system.\"\"\")\n",
    "\n",
    "# Any temperature is above 80ºC.\n",
    "\n",
    "up_80C = []\n",
    "for value in greater_70C:\n",
    "    if value >= 80:\n",
    "        up_80C.append(value)\n",
    "\n",
    "print (f\"\"\"There are {len(up_80C)} temperature values above 80°C.\n",
    "The cooling system must be replaced.\"\"\")\n",
    "        \n",
    "\n",
    "# The average temperature exceeds 65ºC.\n",
    "\n",
    "ave_temp_day = sum(temperatures_C)/len(temperatures_C)\n",
    "\n",
    "if ave_temp_day > 65:\n",
    "    print (\"\"\"The average temperature exceeds 65ºC.\n",
    "    Replace the cooling system.\"\"\")\n",
    "else:\n",
    "    print (\"\"\"The average temperature does not exceed 65ºC.\n",
    "Check other conditions to replace the cooling system.\"\"\")\n",
    "\n",
    "\n"
   ]
  },
  {
   "cell_type": "markdown",
   "metadata": {},
   "source": [
    "## Bonus\n",
    "\n",
    "The company has decided that the decision you made is not valid. They want you to analyze the data again but this time, the conditions that need to be met in order to change the cooling system are different.\n",
    "\n",
    "This time, if one of the following events occurs, then the cooling system needs to be replaced:\n",
    "* The temperature is greater than 70ºC during more than 4 consecutive hours.\n",
    "* Any temperature is above 80ºC.\n",
    "* The average temperature exceeds 65ºC.\n",
    "\n",
    "Follow the steps so that you can make the decision.\n",
    "\n",
    "#### 1. Create a list with the hours where the temperature is greater than 70ºC. Store it in a variable."
   ]
  },
  {
   "cell_type": "code",
   "execution_count": 7,
   "metadata": {},
   "outputs": [
    {
     "name": "stdout",
     "output_type": "stream",
     "text": [
      "[33, 66, 65, 0, 59, 60, 62, 64, 70, 76, 80, 81, 80, 83, 90, 79, 61, 53, 50, 49, 53, 48, 45, 39]\n",
      "[76, 80, 81, 80, 83, 90, 79]\n"
     ]
    }
   ],
   "source": [
    "temperatures_C = [33, 66, 65, 0, 59, 60, 62, 64, 70, 76, 80, 81, 80, 83, 90, 79, 61, 53, 50, 49, 53, 48, 45, 39]\n",
    "\n",
    "# More than 4 temperatures are greater than or equal to 70ºC.\n",
    "greater_70C_2 = []\n",
    "\n",
    "for temp in temperatures_C:\n",
    "    if temp > 70:\n",
    "        greater_70C_2.append(temp)\n",
    "\n",
    "print (temperatures_C )\n",
    "print (greater_70C_2)\n",
    "\n",
    "\n",
    "\n"
   ]
  },
  {
   "cell_type": "markdown",
   "metadata": {},
   "source": [
    "#### 2. Check if the list you created in step 1 has more than 4 consecutive hours. "
   ]
  },
  {
   "cell_type": "code",
   "execution_count": 12,
   "metadata": {},
   "outputs": [
    {
     "name": "stdout",
     "output_type": "stream",
     "text": [
      "There are more than 4 consecutive hours with values greater than 70°\n"
     ]
    }
   ],
   "source": [
    "\n",
    "check = all(item in  temperatures_C for item in greater_70C_2[:5])\n",
    "\n",
    "if check is True:\n",
    "    condition_A = True\n",
    "    print (\"There are more than 4 consecutive hours with values greater than 70°\")\n",
    "else:\n",
    "    print (\"No.\")\n",
    "\n",
    "\n"
   ]
  },
  {
   "cell_type": "markdown",
   "metadata": {},
   "source": [
    "#### 3. Make the decision!\n",
    "To make your decision, check if any of the three conditions is met. Print a message to show if the cooling system needs to be changed or not."
   ]
  },
  {
   "cell_type": "code",
   "execution_count": 13,
   "metadata": {},
   "outputs": [
    {
     "name": "stdout",
     "output_type": "stream",
     "text": [
      "The cooling system needs to be changed\n"
     ]
    }
   ],
   "source": [
    "\n",
    "up_80C = []\n",
    "for value in greater_70C_2:\n",
    "    if value >= 80:\n",
    "        up_80C.append(value)\n",
    "        condition_B = True\n",
    "\n",
    "if sum(temperatures_C)/len(temperatures_C) > 65:\n",
    "    condition_C = True\n",
    "else:\n",
    "    condition_C = False\n",
    "\n",
    "\n",
    "if condition_A or condition_B or condition_C:\n",
    "    print (\"The cooling system needs to be changed\")\n",
    "else:\n",
    "    print (\"The cooling system does not need to be changed\")\n",
    "    "
   ]
  },
  {
   "cell_type": "markdown",
   "metadata": {},
   "source": [
    "#### 4. Find the average value of the temperature lists (ºC and ºF). What is the relation between both average values?"
   ]
  },
  {
   "cell_type": "code",
   "execution_count": 20,
   "metadata": {},
   "outputs": [
    {
     "name": "stdout",
     "output_type": "stream",
     "text": [
      "60.25\n",
      "140.45\n"
     ]
    }
   ],
   "source": [
    "temperatures_C = [33, 66, 65, 0, 59, 60, 62, 64, 70, 76, 80, 81, 80, 83, 90, 79, 61, 53, 50, 49, 53, 48, 45, 39]\n",
    "\n",
    "\n",
    "ave_temperatures_C = sum(temperatures_C)/len(temperatures_C)\n",
    "print (ave_temperatures_C)\n",
    "\n",
    "\n",
    "\n",
    "temperatures_F = []\n",
    "for value in temperatures_C:\n",
    "    fahrenheit = (1.8*value) + 32\n",
    "    temperatures_F.append(fahrenheit)\n",
    "\n",
    "ave_temperatures_F = sum(temperatures_F)/len(temperatures_F)\n",
    "print (ave_temperatures_F)\n"
   ]
  },
  {
   "cell_type": "markdown",
   "metadata": {},
   "source": [
    "#### 5. Find the standard deviation of the temperature lists (ºC and ºF). What is the relation between both standard deviations?"
   ]
  },
  {
   "cell_type": "code",
   "execution_count": 19,
   "metadata": {},
   "outputs": [
    {
     "name": "stdout",
     "output_type": "stream",
     "text": [
      "The standard deviation in Celcius is: 19.285681216902866\n",
      "The standard deviation in Farenheit is: 170.06428196420316\n"
     ]
    }
   ],
   "source": [
    "# standard_deviation_C\n",
    "\n",
    "variance_C = sum((i - ave_temperatures_C) ** 2 for i in temperatures_C) / len(temperatures_C)\n",
    "\n",
    "standard_deviation_C = variance_C ** 0.5\n",
    "print (\"The standard deviation in Celcius is:\", standard_deviation_C)\n",
    "\n",
    "variance_F = sum((i - ave_temperatures_F)**2 for i in temperatures_F)\n",
    "standard_deviation_F = variance_F ** 0.5\n",
    "print (\"The standard deviation in Farenheit is:\", standard_deviation_F)"
   ]
  }
 ],
 "metadata": {
  "kernelspec": {
   "display_name": "Python 3",
   "language": "python",
   "name": "python3"
  },
  "language_info": {
   "codemirror_mode": {
    "name": "ipython",
    "version": 3
   },
   "file_extension": ".py",
   "mimetype": "text/x-python",
   "name": "python",
   "nbconvert_exporter": "python",
   "pygments_lexer": "ipython3",
   "version": "3.8.5"
  }
 },
 "nbformat": 4,
 "nbformat_minor": 2
}
