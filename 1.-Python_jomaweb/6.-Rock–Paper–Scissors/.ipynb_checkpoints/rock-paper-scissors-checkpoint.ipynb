{
 "cells": [
  {
   "cell_type": "markdown",
   "metadata": {},
   "source": [
    "<img src=\"https://bit.ly/2VnXWr2\" width=\"100\" align=\"left\">"
   ]
  },
  {
   "cell_type": "markdown",
   "metadata": {},
   "source": [
    "# Rock, Paper & Scissors\n",
    "\n",
    "Let's play the famous game against our computer. You can check the rules [here](https://en.wikipedia.org/wiki/Rock%E2%80%93paper%E2%80%93scissors). \n",
    "\n",
    "## Task\n",
    "Create a program that imitates the playability of the well known game of rock, paper, scissors. Follow the guidelines provided.\n",
    "\n",
    "## Tools\n",
    "1. Loop: **for/while**\n",
    "2. Functions: **input(), print()...**\n",
    "3. Conditional statements: **if, elif, else**\n",
    "4. Definition of functions. Modular programming\n",
    "5. Import modules\n",
    "\n",
    "**To solve this challenge, the use of functions is recommended.**\n",
    "\n",
    "#### 1. Import the choice function of the random module."
   ]
  },
  {
   "cell_type": "code",
   "execution_count": null,
   "metadata": {},
   "outputs": [],
   "source": [
    "import random\n"
   ]
  },
  {
   "cell_type": "markdown",
   "metadata": {},
   "source": [
    "#### 2. Create a list that includes the 3 possible gesture options of the game: 'rock', 'paper' or 'scissors'. Store the list in a variable called `gestures`."
   ]
  },
  {
   "cell_type": "code",
   "execution_count": null,
   "metadata": {},
   "outputs": [],
   "source": [
    "gestures = ['rock', 'paper', 'scissors']"
   ]
  },
  {
   "cell_type": "markdown",
   "metadata": {},
   "source": [
    "#### 3. Create a variable called `n_rounds` to store the maximum number of rounds to play in a game. \n",
    "Remember that the number of rounds must be odd: 1, 3, 5, ..."
   ]
  },
  {
   "cell_type": "code",
   "execution_count": null,
   "metadata": {},
   "outputs": [],
   "source": [
    "n_rounds = 3"
   ]
  },
  {
   "cell_type": "markdown",
   "metadata": {},
   "source": [
    "#### 4. Create a variable called `rounds_to_win` to store the number of rounds that a player must win to win the game.\n",
    "**Hint**: the value stored in `rounds_to_win` depends on the value of `n_rounds`. "
   ]
  },
  {
   "cell_type": "code",
   "execution_count": null,
   "metadata": {},
   "outputs": [],
   "source": [
    "rounds_to_win = 2"
   ]
  },
  {
   "cell_type": "markdown",
   "metadata": {},
   "source": [
    "#### 5. Create two variables to store the number of rounds that the computer and the player have won. Call these variables `cpu_score` and `player_score`."
   ]
  },
  {
   "cell_type": "code",
   "execution_count": null,
   "metadata": {},
   "outputs": [],
   "source": [
    "cpu_score = []\n",
    "player_score = []"
   ]
  },
  {
   "cell_type": "markdown",
   "metadata": {},
   "source": [
    "#### 6. Define a function that randomly returns one of the 3 gesture options.\n",
    "You will use this function to simulate the gesture choice of the computer. "
   ]
  },
  {
   "cell_type": "code",
   "execution_count": 14,
   "metadata": {},
   "outputs": [
    {
     "name": "stdout",
     "output_type": "stream",
     "text": [
      "the computer:  paper\n"
     ]
    }
   ],
   "source": [
    "import random\n",
    "gestures = ['rock', 'paper', 'scissors']\n",
    "\n",
    "cpu_choice = \" \" \n",
    "\n",
    "def random_gestures_cpu():\n",
    "    cpu = random.choice(gestures)\n",
    "    cpu_choice = cpu\n",
    "    print (\"the computer: \", cpu_choice )\n",
    "\n",
    "random_gestures_cpu() "
   ]
  },
  {
   "cell_type": "markdown",
   "metadata": {},
   "source": [
    "#### 7. Define a function that asks the player which is the gesture he or she wants to show: 'rock', 'paper' or 'scissors'.\n",
    "The player should only be allowed to choose one of the 3 gesture options. If the player's choice is not rock, paper or scissors, keep asking until it is."
   ]
  },
  {
   "cell_type": "code",
   "execution_count": 17,
   "metadata": {},
   "outputs": [
    {
     "name": "stdout",
     "output_type": "stream",
     "text": [
      "Please type your choose: Rock, Paper or Scissors.\n",
      "paper\n",
      "you choosed: paper\n"
     ]
    }
   ],
   "source": [
    "gestures = ['rock', 'paper', 'scissors']\n",
    "\n",
    "user_choice = \" \" \n",
    "\n",
    "def user_input():\n",
    "    while True:\n",
    "        print (\"Please type your choose: Rock, Paper or Scissors.\")\n",
    "        user = input()\n",
    "        user_choice = user\n",
    "        if user_choice in gestures:   #user_choice == gestures[0] or gestures[1] or gestures[2]: # or gestures paper or scissors\n",
    "            print (\"you choosed:\", user_choice)\n",
    "            break\n",
    "user_input()"
   ]
  },
  {
   "cell_type": "markdown",
   "metadata": {},
   "source": [
    "#### 8. Define a function that checks who won a round. \n",
    "The function should return 0 if there is a tie, 1 if the computer wins and 2 if the player wins."
   ]
  },
  {
   "cell_type": "code",
   "execution_count": 21,
   "metadata": {},
   "outputs": [
    {
     "name": "stdout",
     "output_type": "stream",
     "text": [
      "The user win!\n",
      "2\n"
     ]
    }
   ],
   "source": [
    "#user_choice = \"paper\"\n",
    "#cpu_choice = \"rock\"\n",
    "#user_win = 0\n",
    "#cpu_win = 0\n",
    "#result = 0\n",
    "\n",
    "def check_round():\n",
    "    if user_choice == cpu_choice:\n",
    "        print (\"tie\")\n",
    "        result = 0\n",
    "    elif ((user_choice == \"rock\") and (cpu_choice == \"scissors\") or\n",
    "         (user_choice == \"scissors\") and (cpu_choice == \"paper\") or\n",
    "         (user_choice == \"paper\") and (cpu_choice == \"rock\")):\n",
    "            print (\"The user win!\")\n",
    "            result = 2\n",
    "    else:\n",
    "        print (\"The computer won!\")\n",
    "        result = 1\n",
    "    print (result)\n",
    "    \n",
    "    \n",
    "check_round()"
   ]
  },
  {
   "cell_type": "markdown",
   "metadata": {},
   "source": [
    "#### 9. Define a function that prints the choice of the computer, the choice of the player and a message that announces who won the current round. \n",
    "You should also use this function to update the variables that count the number of rounds that the computer and the player have won. The score of the winner increases by one point. If there is a tie, the score does not increase."
   ]
  },
  {
   "cell_type": "code",
   "execution_count": 25,
   "metadata": {},
   "outputs": [
    {
     "name": "stdout",
     "output_type": "stream",
     "text": [
      "Please type your choose: Rock, Paper or Scissors.\n",
      "paper\n",
      "you choosed: paper\n",
      "the computer:  rock\n",
      "tie\n",
      "0\n"
     ]
    }
   ],
   "source": [
    "user_choice = \" \"\n",
    "cpu_choice = \" \"\n",
    "\n",
    "user_input() #= user_choice\n",
    "random_gestures_cpu() #= cpu_choice\n",
    "check_round()"
   ]
  },
  {
   "cell_type": "markdown",
   "metadata": {},
   "source": [
    "#### 10. Now it's time to code the execution of the game using the functions and variables you defined above. \n",
    "\n",
    "First, create a loop structure that repeats while no player reaches the minimum score necessary to win and the number of rounds is less than the maximum number of rounds to play in a game.  \n",
    "\n",
    "Inside the loop, use the functions and variables above to create the execution of a round: ask for the player's choice, generate the random choice of the computer, show the round results, update the scores, etc. "
   ]
  },
  {
   "cell_type": "code",
   "execution_count": null,
   "metadata": {},
   "outputs": [],
   "source": [
    "import random\n",
    "\n",
    "# definig game variables\n",
    "gestures = ['rock', 'paper', 'scissors']\n",
    "\n",
    "\n",
    "user_choices = \"\"\n",
    "cpu_choice = \"\"\n",
    "\n",
    "rounds = 0\n",
    "cpu_score = 0\n",
    "user_score = 0\n",
    "tie = 0\n",
    "\n",
    "\n",
    "# Welcome to the game\n",
    "def welcome():\n",
    "    print (\"\"\"\n",
    "    Welcome to the Python Game\n",
    "     Rock, Paper & Scissors \n",
    "\"\"\")\n",
    "    print (\"\"\"\n",
    "Rules: \n",
    "    Rocks beats Scissors\n",
    "    Scissors beats Paper \n",
    "    Paper beats Rock\n",
    "    \n",
    "    This game has 3 rounds. \n",
    "    If you want to defeat the computer....\n",
    "    Then, press enter to start with the first round!\n",
    "    \n",
    "\"\"\")\n",
    "    print (input(\"Are you ready?\"))\n",
    "    \n",
    "\n",
    "#defining user move \n",
    "def user_input():\n",
    "    while True:\n",
    "        print (\"Please type your choose: rock, paper or scissors.\")\n",
    "        user = input()\n",
    "        global user_choices \n",
    "        user_choices = user.lower()\n",
    "        if user_choices in gestures:  \n",
    "            print (\"You choose:\", user_choices)\n",
    "            break\n",
    "\n",
    "            \n",
    "#defining cpu move as random\n",
    "def cpu_random():\n",
    "    global cpu_choice \n",
    "    cpu_choice = random.choice(gestures)\n",
    "    print (\"The computer choose:\", cpu_choice)\n",
    "    \n",
    "\n",
    "welcome()\n",
    "\n",
    "\n",
    "\n",
    "\n",
    "while rounds < 3: \n",
    "    rounds += 1\n",
    "    print (\"Round:\", rounds)  \n",
    "    user_input()\n",
    "    cpu_random()\n",
    "    print (\"Computer:\", cpu_choice, \"User:\",  user_choices )\n",
    "    if user_choices == \"rock\" and cpu_choice == \"scissors\":\n",
    "        user_score += 1\n",
    "        print (\"The user wins the round ! User:\", user_score, \"Computer:\", cpu_score)\n",
    "        \n",
    "    elif user_choices == \"scissors\" and cpu_choice == \"paper\":\n",
    "        user_score += 1\n",
    "        print (\"The user wins the round! User:\", user_score, \"Computer:\", cpu_score)\n",
    "        \n",
    "    elif user_choices == \"paper\" and cpu_choice == \"rock\":\n",
    "        user_score += 1\n",
    "        print (\"The user wins the round! User:\", user_score, \"Computer:\", cpu_score)\n",
    "        \n",
    "    elif user_choices == \"scissors\" and cpu_choice == \"paper\":\n",
    "        cpu_score += 1\n",
    "        print (\"The computer wins the round! User:\", user_score, \"Computer:\", cpu_score)\n",
    "        \n",
    "    elif user_choices == \"paper\" and cpu_choice == \"scissors\":\n",
    "        cpu_score += 1\n",
    "        print (\"The computer wins the round! User:\", user_score, \"Computer:\", cpu_score)\n",
    "        \n",
    "    elif user_choices == \"rock\" and cpu_choice == \"papel\":\n",
    "        cpu_score += 1\n",
    "        print (\"The computer wins the round! User:\", user_scorepa, \"Computer:\", cpu_score)\n",
    "        \n",
    "# Print the winner of the game based on who won more rounds\n",
    "    if user_choices == cpu_choice:\n",
    "        tie += 1\n",
    "        print (\"tie\")\n",
    "    elif rounds == 3 and (user_score > cpu_score):\n",
    "        print (\"The user wins the game! Computer score:\", cpu_score, \"   User score:\", user_score)   \n",
    "        break         \n",
    "    elif rounds == 3 and (user_score < cpu_score):\n",
    "        print (\"The computer wins the game!\")\n",
    "        print (\"Computer score:\", cpu_score, \"   User score:\", user_score)    \n",
    "        break\n",
    "    elif tie == 3:\n",
    "        print (\"The game is tied! Great job!\")\n",
    "        print (\"Computer score:\", cpu_score, \"   User score:\", user_score)    \n",
    "        break\n",
    "   \n",
    "        \n",
    "  \n",
    "\n"
   ]
  },
  {
   "cell_type": "markdown",
   "metadata": {},
   "source": [
    "#### 11. Print the winner of the game based on who won more rounds.\n",
    "Remember that the game might be tied. "
   ]
  },
  {
   "cell_type": "code",
   "execution_count": null,
   "metadata": {},
   "outputs": [],
   "source": [
    "# See cell above"
   ]
  },
  {
   "cell_type": "markdown",
   "metadata": {},
   "source": [
    "# Bonus: Rock, Paper, Scissors, Lizard & Spock\n",
    "![](images/rpsls.jpg)\n",
    "\n",
    "In this challenge, you need to improve the previous game by adding two new options. To know more about the rules of the improved version of rock, paper, scissors, check this [link](http://www.samkass.com/theories/RPSSL.html). \n",
    "\n",
    "In addition, you will also need to improve how the game interacts with the player: the number of rounds to play, which must be an odd number, will be requested to the user until a valid number is entered. Define a new function to make that request.\n",
    "\n",
    "**Hint**: Try to reuse the code that you already coded in the previous challenge. If your code is efficient, this bonus will only consist of simple modifications to the original game."
   ]
  },
  {
   "cell_type": "code",
   "execution_count": null,
   "metadata": {},
   "outputs": [],
   "source": [
    "\n",
    "\n",
    "\n",
    "import random\n",
    "\n",
    "# definig game variables\n",
    "gestures = [\"rock\", \"paper\", \"scissors\", \"lizard\", \"spock\"]\n",
    "\n",
    "\n",
    "user_choices = \"\"\n",
    "cpu_choice = \"\"\n",
    "\n",
    "rounds_choice = []\n",
    "rounds = 0\n",
    "cpu_score = 0\n",
    "user_score = 0\n",
    "tie = 0\n",
    "\n",
    "\n",
    "\n",
    "\n",
    "\n",
    "\n",
    "#defining user move \n",
    "def user_input():\n",
    "    while True:\n",
    "        print (\"Please type your choose: rock, paper, scissors, spock or lizard.\")\n",
    "        user = input()\n",
    "        global user_choices \n",
    "        user_choices = user.lower()\n",
    "        if user_choices in gestures:  \n",
    "            print (\"You choose:\", user_choices)\n",
    "            break\n",
    "\n",
    "            \n",
    "#defining cpu move as random\n",
    "def cpu_random():\n",
    "    global cpu_choice \n",
    "    cpu_choice = random.choice(gestures)\n",
    "    print (\"The computer choose:\", cpu_choice)            \n",
    "            \n",
    "\n",
    "#definig the rounds to play\n",
    "\n",
    "def number():\n",
    "    while True:\n",
    "        try:\n",
    "            print (\"Please type the number of rounds you want to play. Choose odd numbers (1, 3, 5, 7, etc.).\")\n",
    "            number = input()\n",
    "            if int(number) is False:\n",
    "                print (\"Please, type an odd number\")\n",
    "            elif int(number) % 2 == 0:\n",
    "                print (\"Please, type an odd number\")\n",
    "            else:\n",
    "                print (\"You choose \" + str(number) + \" rounds to play. Good luck!\" )\n",
    "                global rounds_choice \n",
    "                rounds_choice = int(number) \n",
    "                break\n",
    "        except ValueError: \n",
    "            print (\"Please, type an odd number\")\n",
    "    \n",
    "\n",
    "\n",
    "\n",
    "#user_input()\n",
    "\n",
    "#cpu_random()    \n",
    "number()\n",
    "\n",
    "while rounds < rounds_choice: \n",
    "    rounds += 1\n",
    "    print (\"Round:\", rounds)  \n",
    "    user_input()\n",
    "    cpu_random()\n",
    "    print (\"Computer:\", cpu_choice, \"User:\",  user_choices )\n",
    "    \n",
    "    if user_choices == \"rock\" and (cpu_choice == \"scissors\" or cpu_choice == \"lizar\"):\n",
    "        user_score += 1\n",
    "        print (\"The user wins the round ! User:\", user_score, \"Computer:\", cpu_score)\n",
    "        \n",
    "    elif user_choices == \"scissors\" and (cpu_choice == \"paper\" or cpu_choice == \"lizard\"):\n",
    "        user_score += 1\n",
    "        print (\"The user wins the round! User:\", user_score, \"Computer:\", cpu_score)\n",
    "        \n",
    "    elif user_choices == \"paper\" and (cpu_choice == \"rock\" or cpu_choice == \"spock\"):\n",
    "        user_score += 1\n",
    "        print (\"The user wins the round! User:\", user_score, \"Computer:\", cpu_score)\n",
    "     \n",
    "    elif user_choices == \"spock\" and (cpu_choice == \"rock\" or cpu_choice == \"scissors\"):\n",
    "        user_score += 1\n",
    "        print (\"The user wins the round! User:\", user_score, \"Computer:\", cpu_score)   \n",
    "     \n",
    "    elif user_choices == \"lizard\" and (cpu_choice == \"paper\" or cpu_choice == \"spock\"):\n",
    "        user_score += 1\n",
    "        print (\"The user wins the round! User:\", user_score, \"Computer:\", cpu_score)\n",
    "        \n",
    "        \n",
    "    elif (user_choices == \"scissors\" or user_choices == \"spock\") and cpu_choice == \"paper\":\n",
    "        cpu_score += 1\n",
    "        print (\"The computer wins the round! User:\", user_score, \"Computer:\", cpu_score)\n",
    "        \n",
    "    elif (user_choices == \"paper\" or user_choices == \"lizard\" ) and cpu_choice == \"scissors\":\n",
    "        cpu_score += 1\n",
    "        print (\"The computer wins the round! User:\", user_score, \"Computer:\", cpu_score)\n",
    "        \n",
    "    elif (user_choices == \"rock\" or user_choices == \"spock\") and cpu_choice == \"paper\":\n",
    "        cpu_score += 1\n",
    "        print (\"The computer wins the round! User:\", user_score, \"Computer:\", cpu_score)\n",
    "     \n",
    "    elif (user_choices == \"rock\" or user_choices == \"scissors\") and cpu_choice == \"spock\":\n",
    "        cpu_score += 1\n",
    "        print (\"The computer wins the round! User:\", user_score, \"Computer:\", cpu_score)\n",
    " \n",
    "    elif (user_choices == \"spock\" or user_choices == \"paper\") and cpu_choice == \"lizard\":\n",
    "        cpu_score += 1\n",
    "        print (\"The computer wins the round! User:\", user_score, \"Computer:\", cpu_score) \n",
    " \n",
    "        \n",
    "# Print the winner of the game based on who won more rounds\n",
    "    if (rounds < rounds_choice) and (user_choices == cpu_choice):\n",
    "        tie += 1\n",
    "        print (\"tie\")\n",
    "    elif rounds == rounds_choice and (user_score > cpu_score):\n",
    "        print (\"The user wins the game! Computer score:\", cpu_score, \"   User score:\", user_score)   \n",
    "        break         \n",
    "    elif rounds == rounds_choice and (user_score < cpu_score):\n",
    "        print (\"The computer wins the game!\")\n",
    "        print (\"Computer score:\", cpu_score, \"   User score:\", user_score)    \n",
    "        break\n",
    "    elif rounds == rounds_choice and (user_score == cpu_score):\n",
    "        print (\"The game is tied! Great job!\")\n",
    "        print (\"Computer score:\", cpu_score, \"   User score:\", user_score)    \n",
    "        break\n",
    "    elif tie == (rounds_choice / 2) +1:\n",
    "        print (\"The game is tied! Great job!\")\n",
    "        print (\"Computer score:\", cpu_score, \"   User score:\", user_score)    \n",
    "        break\n"
   ]
  }
 ],
 "metadata": {
  "kernelspec": {
   "display_name": "Python 3",
   "language": "python",
   "name": "python3"
  },
  "language_info": {
   "codemirror_mode": {
    "name": "ipython",
    "version": 3
   },
   "file_extension": ".py",
   "mimetype": "text/x-python",
   "name": "python",
   "nbconvert_exporter": "python",
   "pygments_lexer": "ipython3",
   "version": "3.8.5"
  }
 },
 "nbformat": 4,
 "nbformat_minor": 2
}
